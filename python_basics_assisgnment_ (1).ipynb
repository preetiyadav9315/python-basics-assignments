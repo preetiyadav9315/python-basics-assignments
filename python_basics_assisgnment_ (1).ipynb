{
  "nbformat": 4,
  "nbformat_minor": 0,
  "metadata": {
    "colab": {
      "provenance": []
    },
    "kernelspec": {
      "name": "python3",
      "display_name": "Python 3"
    },
    "language_info": {
      "name": "python"
    }
  },
  "cells": [
    {
      "cell_type": "code",
      "source": [],
      "metadata": {
        "id": "noI4c2pn7B1w"
      },
      "execution_count": null,
      "outputs": []
    },
    {
      "cell_type": "markdown",
      "source": [],
      "metadata": {
        "id": "87vtzmOc70n-"
      }
    },
    {
      "cell_type": "markdown",
      "source": [
        "#1. Explain the key features of python that makes it a popular choice for programming.\n",
        "- It is easy to learn and use so it's widely used in the industry\n",
        "- Data industry uses python a lot\n",
        "- Python is free to use and provides various libraries like pandas\n",
        "- We can develop any amount of software that we want.\n",
        "- A large and active community provides resources and assist with the codes.\n",
        "- image processing.\n"
      ],
      "metadata": {
        "id": "ll_MfLch7F33"
      }
    },
    {
      "cell_type": "code",
      "execution_count": 1,
      "metadata": {
        "id": "xER6TxwR6Fp7"
      },
      "outputs": [],
      "source": [
        "\n"
      ]
    },
    {
      "cell_type": "markdown",
      "source": [
        "#2. Describe the role of predfined keywords in python and provide examples how they are used in a programme.\n",
        "- Predefined Keywords are reserved words in python that have special meanings and cannot be used as identifiers (variable names,function names,etc.)\n",
        "\n",
        "- for example:-\n",
        "if , elif , else , for , , while  \n"
      ],
      "metadata": {
        "id": "nKhC29nM-nAV"
      }
    },
    {
      "cell_type": "code",
      "source": [
        "\n",
        "a = 100\n",
        "if a > 100:\n",
        "    print(\"This block will be executed if a is greater than 100\")\n",
        "elif a < 100:\n",
        "    print(\"This block will be executed if a is lesser than 100\")\n",
        "else:\n",
        "    print(\"The number is equals to 100\")\n"
      ],
      "metadata": {
        "colab": {
          "base_uri": "https://localhost:8080/"
        },
        "id": "xmRJR791BkNR",
        "outputId": "5bbe70b0-973e-4509-9be8-52dc371a1f51"
      },
      "execution_count": 1,
      "outputs": [
        {
          "output_type": "stream",
          "name": "stdout",
          "text": [
            "The number is equals to 100\n"
          ]
        }
      ]
    },
    {
      "cell_type": "markdown",
      "source": [],
      "metadata": {
        "id": "eX5NRMCdC_Qt"
      }
    },
    {
      "cell_type": "code",
      "source": [
        "n = 7\n",
        "i = 1\n",
        "while i < n:\n",
        "    print(i)\n",
        "    i = i+1\n"
      ],
      "metadata": {
        "colab": {
          "base_uri": "https://localhost:8080/"
        },
        "id": "KymF2QrDDTmJ",
        "outputId": "71078061-1f17-4469-b0fc-74e3bfaaec8c"
      },
      "execution_count": 2,
      "outputs": [
        {
          "output_type": "stream",
          "name": "stdout",
          "text": [
            "1\n",
            "2\n",
            "3\n",
            "4\n",
            "5\n",
            "6\n"
          ]
        }
      ]
    },
    {
      "cell_type": "markdown",
      "source": [
        "#3. Compare and contrast mutable and immutable objects in python with examples.\n",
        "- Mutable objects:\n",
        "\n",
        "1.   objects whose value can be changed after creation are mutable pobjects.\n",
        "2.   for example: lists , dictionaries ,sets.\n",
        "3.It is useful useful when you need to update or modify data\n",
        "\n",
        "- immutable objects:\n",
        "\n",
        " 1.objects whose vlaue cannot be changed once created.\n",
        " 2. for example: integer, float, string, tuple\n",
        " 3.useful for hashable keys in dictionaries and sets\n",
        "\n"
      ],
      "metadata": {
        "id": "yUDdJoV4DpkS"
      }
    },
    {
      "cell_type": "code",
      "source": [
        "# mutable objest:\n",
        "list_cont=[1,2,3,4.3,True,\"Ajay\"]\n",
        "list_cont[5]\n"
      ],
      "metadata": {
        "colab": {
          "base_uri": "https://localhost:8080/",
          "height": 36
        },
        "id": "hEqKMgqrHHgX",
        "outputId": "2c2060a4-25a4-4790-bd50-077ab9a9dfb7"
      },
      "execution_count": 3,
      "outputs": [
        {
          "output_type": "execute_result",
          "data": {
            "text/plain": [
              "'Ajay'"
            ],
            "application/vnd.google.colaboratory.intrinsic+json": {
              "type": "string"
            }
          },
          "metadata": {},
          "execution_count": 3
        }
      ]
    },
    {
      "cell_type": "code",
      "source": [
        "list_cont[5]=\"bijay\"\n",
        "list_cont"
      ],
      "metadata": {
        "colab": {
          "base_uri": "https://localhost:8080/"
        },
        "id": "nB9u9nCuH1jM",
        "outputId": "157a4a6a-4685-4dba-d463-bfe7b78eae93"
      },
      "execution_count": 4,
      "outputs": [
        {
          "output_type": "execute_result",
          "data": {
            "text/plain": [
              "[1, 2, 3, 4.3, True, 'bijay']"
            ]
          },
          "metadata": {},
          "execution_count": 4
        }
      ]
    },
    {
      "cell_type": "code",
      "source": [
        "#immutable object\n",
        "b=\"pwskills\"\n",
        "b"
      ],
      "metadata": {
        "colab": {
          "base_uri": "https://localhost:8080/",
          "height": 36
        },
        "id": "zMoA22WfKnoX",
        "outputId": "ccca559c-8546-435d-d103-9f044066fd78"
      },
      "execution_count": 5,
      "outputs": [
        {
          "output_type": "execute_result",
          "data": {
            "text/plain": [
              "'pwskills'"
            ],
            "application/vnd.google.colaboratory.intrinsic+json": {
              "type": "string"
            }
          },
          "metadata": {},
          "execution_count": 5
        }
      ]
    },
    {
      "cell_type": "code",
      "source": [
        "b[0]# we cannot change it since it,s a string"
      ],
      "metadata": {
        "colab": {
          "base_uri": "https://localhost:8080/",
          "height": 36
        },
        "id": "Uos9SxEEK8zr",
        "outputId": "0e1eb18b-030f-4ad6-d018-39c26b0eb6aa"
      },
      "execution_count": 6,
      "outputs": [
        {
          "output_type": "execute_result",
          "data": {
            "text/plain": [
              "'p'"
            ],
            "application/vnd.google.colaboratory.intrinsic+json": {
              "type": "string"
            }
          },
          "metadata": {},
          "execution_count": 6
        }
      ]
    },
    {
      "cell_type": "markdown",
      "source": [
        "#4.Discuss the different type of operators in python and provide examples of how they are used.\n",
        "  - python supports various types of operators . Here are some main type of operators:\n",
        "  1. Arithmetic operators : +, - , * , / , // , % , **\n",
        "  2.comparison operators : == , != , < , > , >= , <=\n",
        "  3.assignment operators : = , += , -= , *= , /= , //=\n",
        "  4.logical operators : and , or , not\n",
        "  5.identity operators : is , is not\n",
        "  6.membership operators : in , not in\n",
        "  7. bitwise operators : & , ^ , ~\n"
      ],
      "metadata": {
        "id": "VdI_Na0ELaJA"
      }
    },
    {
      "cell_type": "code",
      "source": [
        "# arithmetic operators\n",
        "3+2"
      ],
      "metadata": {
        "colab": {
          "base_uri": "https://localhost:8080/"
        },
        "id": "7N4sDroYP-55",
        "outputId": "a8855042-9a81-4fa6-cc0e-2f7106cffd4c"
      },
      "execution_count": 7,
      "outputs": [
        {
          "output_type": "execute_result",
          "data": {
            "text/plain": [
              "5"
            ]
          },
          "metadata": {},
          "execution_count": 7
        }
      ]
    },
    {
      "cell_type": "code",
      "source": [
        "7-5"
      ],
      "metadata": {
        "colab": {
          "base_uri": "https://localhost:8080/"
        },
        "id": "iOcxX6tmQD6s",
        "outputId": "21fe53cc-7a81-4bed-b665-70c55456622f"
      },
      "execution_count": 9,
      "outputs": [
        {
          "output_type": "execute_result",
          "data": {
            "text/plain": [
              "2"
            ]
          },
          "metadata": {},
          "execution_count": 9
        }
      ]
    },
    {
      "cell_type": "code",
      "source": [
        "8*6"
      ],
      "metadata": {
        "colab": {
          "base_uri": "https://localhost:8080/"
        },
        "id": "-cnXx1jYQJNk",
        "outputId": "4dff6482-59ea-45c4-e73b-22c197ac5626"
      },
      "execution_count": 10,
      "outputs": [
        {
          "output_type": "execute_result",
          "data": {
            "text/plain": [
              "48"
            ]
          },
          "metadata": {},
          "execution_count": 10
        }
      ]
    },
    {
      "cell_type": "code",
      "source": [
        "10/5"
      ],
      "metadata": {
        "colab": {
          "base_uri": "https://localhost:8080/"
        },
        "id": "lJ6ErnlyQMRs",
        "outputId": "719b4150-c9cf-40a1-8dba-80e1c3d5c0c8"
      },
      "execution_count": 11,
      "outputs": [
        {
          "output_type": "execute_result",
          "data": {
            "text/plain": [
              "2.0"
            ]
          },
          "metadata": {},
          "execution_count": 11
        }
      ]
    },
    {
      "cell_type": "code",
      "source": [
        "10//3"
      ],
      "metadata": {
        "colab": {
          "base_uri": "https://localhost:8080/"
        },
        "id": "ZtgcIYDfQbe4",
        "outputId": "74bdb366-88a0-4cf1-e457-e49be4746d84"
      },
      "execution_count": 12,
      "outputs": [
        {
          "output_type": "execute_result",
          "data": {
            "text/plain": [
              "3"
            ]
          },
          "metadata": {},
          "execution_count": 12
        }
      ]
    },
    {
      "cell_type": "code",
      "source": [
        "10%3"
      ],
      "metadata": {
        "colab": {
          "base_uri": "https://localhost:8080/"
        },
        "id": "Nu7cCaWCQgj2",
        "outputId": "6f754ed7-7e46-43bc-e63d-c12c9554f60f"
      },
      "execution_count": 13,
      "outputs": [
        {
          "output_type": "execute_result",
          "data": {
            "text/plain": [
              "1"
            ]
          },
          "metadata": {},
          "execution_count": 13
        }
      ]
    },
    {
      "cell_type": "code",
      "source": [
        "4**2"
      ],
      "metadata": {
        "colab": {
          "base_uri": "https://localhost:8080/"
        },
        "id": "QX8N5EUPQk1E",
        "outputId": "50215630-790c-4b11-e57d-9c8de53bc196"
      },
      "execution_count": 15,
      "outputs": [
        {
          "output_type": "execute_result",
          "data": {
            "text/plain": [
              "16"
            ]
          },
          "metadata": {},
          "execution_count": 15
        }
      ]
    },
    {
      "cell_type": "code",
      "source": [
        "#Comparison operator\n",
        "4==4\n"
      ],
      "metadata": {
        "colab": {
          "base_uri": "https://localhost:8080/"
        },
        "id": "Kq4jo14XTH68",
        "outputId": "98fa5969-be7e-4014-ef3d-a1ad61d2ae53"
      },
      "execution_count": 16,
      "outputs": [
        {
          "output_type": "execute_result",
          "data": {
            "text/plain": [
              "True"
            ]
          },
          "metadata": {},
          "execution_count": 16
        }
      ]
    },
    {
      "cell_type": "code",
      "source": [
        "4!=2"
      ],
      "metadata": {
        "colab": {
          "base_uri": "https://localhost:8080/"
        },
        "id": "672yDEcqTU7P",
        "outputId": "6209a7c9-6b43-49cd-ed51-37bf70c307b9"
      },
      "execution_count": 17,
      "outputs": [
        {
          "output_type": "execute_result",
          "data": {
            "text/plain": [
              "True"
            ]
          },
          "metadata": {},
          "execution_count": 17
        }
      ]
    },
    {
      "cell_type": "code",
      "source": [
        "3>2"
      ],
      "metadata": {
        "colab": {
          "base_uri": "https://localhost:8080/"
        },
        "id": "LyJu_VsMTbUx",
        "outputId": "77928779-d2cc-4c1e-ad4d-912cb3ee689b"
      },
      "execution_count": 18,
      "outputs": [
        {
          "output_type": "execute_result",
          "data": {
            "text/plain": [
              "True"
            ]
          },
          "metadata": {},
          "execution_count": 18
        }
      ]
    },
    {
      "cell_type": "code",
      "source": [
        "3<5"
      ],
      "metadata": {
        "colab": {
          "base_uri": "https://localhost:8080/"
        },
        "id": "QPMVfPpBTemg",
        "outputId": "d4fb43df-bcca-4b72-c610-04c8dd98d541"
      },
      "execution_count": 20,
      "outputs": [
        {
          "output_type": "execute_result",
          "data": {
            "text/plain": [
              "True"
            ]
          },
          "metadata": {},
          "execution_count": 20
        }
      ]
    },
    {
      "cell_type": "code",
      "source": [
        "#Assignment operators\n",
        "a=5\n",
        "a+=2\n",
        "a-=6\n",
        "a*=1\n",
        "a/=6\n",
        "a//=5"
      ],
      "metadata": {
        "id": "2LKZKq6vTkmj"
      },
      "execution_count": null,
      "outputs": []
    },
    {
      "cell_type": "markdown",
      "source": [],
      "metadata": {
        "id": "C2wOQ-HcI4D2"
      }
    },
    {
      "cell_type": "code",
      "source": [
        "# logical operators\n",
        "True and False\n",
        "\n"
      ],
      "metadata": {
        "colab": {
          "base_uri": "https://localhost:8080/"
        },
        "id": "kgH0BU8aUL6u",
        "outputId": "a524327e-7d5c-4e57-8aae-b689fdfe7e20"
      },
      "execution_count": 22,
      "outputs": [
        {
          "output_type": "execute_result",
          "data": {
            "text/plain": [
              "False"
            ]
          },
          "metadata": {},
          "execution_count": 22
        }
      ]
    },
    {
      "cell_type": "code",
      "source": [
        "True or False"
      ],
      "metadata": {
        "colab": {
          "base_uri": "https://localhost:8080/"
        },
        "id": "1vynkwI3U85s",
        "outputId": "66e4ee23-cb76-4c92-8fc8-b762d2696bd6"
      },
      "execution_count": 3,
      "outputs": [
        {
          "output_type": "execute_result",
          "data": {
            "text/plain": [
              "True"
            ]
          },
          "metadata": {},
          "execution_count": 3
        }
      ]
    },
    {
      "cell_type": "code",
      "source": [
        "not True"
      ],
      "metadata": {
        "colab": {
          "base_uri": "https://localhost:8080/"
        },
        "id": "2AiC-N_P_Hjy",
        "outputId": "4dd39f86-ab08-4e92-b2dc-fb510c5ac29d"
      },
      "execution_count": 5,
      "outputs": [
        {
          "output_type": "execute_result",
          "data": {
            "text/plain": [
              "False"
            ]
          },
          "metadata": {},
          "execution_count": 5
        }
      ]
    },
    {
      "cell_type": "markdown",
      "source": [
        "\n",
        "\n"
      ],
      "metadata": {
        "id": "8X8SfNkKIfA-"
      }
    },
    {
      "cell_type": "code",
      "source": [
        "#identity operators\n",
        "a=2\n",
        "b=3\n",
        "a is b\n"
      ],
      "metadata": {
        "colab": {
          "base_uri": "https://localhost:8080/"
        },
        "id": "RrqXA3ZsVZsn",
        "outputId": "13a461dc-acb8-451e-d11c-7095477a4b39"
      },
      "execution_count": 6,
      "outputs": [
        {
          "output_type": "execute_result",
          "data": {
            "text/plain": [
              "False"
            ]
          },
          "metadata": {},
          "execution_count": 6
        }
      ]
    },
    {
      "cell_type": "code",
      "source": [
        "a is not b"
      ],
      "metadata": {
        "colab": {
          "base_uri": "https://localhost:8080/"
        },
        "id": "qs1TpndS_UAr",
        "outputId": "86cd3e40-7b6c-410d-89aa-c04efaed5f14"
      },
      "execution_count": 7,
      "outputs": [
        {
          "output_type": "execute_result",
          "data": {
            "text/plain": [
              "True"
            ]
          },
          "metadata": {},
          "execution_count": 7
        }
      ]
    },
    {
      "cell_type": "code",
      "source": [
        "# membership operators\n",
        "a=\"apple\"\n",
        "'a' in a\n"
      ],
      "metadata": {
        "colab": {
          "base_uri": "https://localhost:8080/"
        },
        "id": "RDEw-cx7WVUR",
        "outputId": "0e0eb358-440e-4dc0-c6de-723dd367c8a9"
      },
      "execution_count": 11,
      "outputs": [
        {
          "output_type": "execute_result",
          "data": {
            "text/plain": [
              "True"
            ]
          },
          "metadata": {},
          "execution_count": 11
        }
      ]
    },
    {
      "cell_type": "code",
      "source": [
        "'y' in a"
      ],
      "metadata": {
        "colab": {
          "base_uri": "https://localhost:8080/"
        },
        "id": "rgPyeyO4_7J1",
        "outputId": "d2ef9db9-894c-4966-d194-79e2fbf78e78"
      },
      "execution_count": 12,
      "outputs": [
        {
          "output_type": "execute_result",
          "data": {
            "text/plain": [
              "False"
            ]
          },
          "metadata": {},
          "execution_count": 12
        }
      ]
    },
    {
      "cell_type": "code",
      "source": [
        "# bitwise operators\n",
        "5&3\n"
      ],
      "metadata": {
        "colab": {
          "base_uri": "https://localhost:8080/"
        },
        "id": "pqIBiLvnWzMy",
        "outputId": "a3a47fe7-1c60-4d22-c948-3c1c743872b7"
      },
      "execution_count": 14,
      "outputs": [
        {
          "output_type": "execute_result",
          "data": {
            "text/plain": [
              "1"
            ]
          },
          "metadata": {},
          "execution_count": 14
        }
      ]
    },
    {
      "cell_type": "code",
      "source": [
        "5^3"
      ],
      "metadata": {
        "colab": {
          "base_uri": "https://localhost:8080/"
        },
        "id": "k8gwbh8tAJYR",
        "outputId": "98ebed05-71ad-46b0-f52b-eca9b648f498"
      },
      "execution_count": 15,
      "outputs": [
        {
          "output_type": "execute_result",
          "data": {
            "text/plain": [
              "6"
            ]
          },
          "metadata": {},
          "execution_count": 15
        }
      ]
    },
    {
      "cell_type": "markdown",
      "source": [
        "#5. Explain the concept of typecasting in python with examples.\n",
        "\n",
        "  - Type casting is the process of changing one data type to another in Python. It is often necessary for performing arithmetic operations, data manipulation, and input/output operations in Python programs."
      ],
      "metadata": {
        "id": "tio9HhLbXXM4"
      }
    },
    {
      "cell_type": "code",
      "source": [
        "#String to integer\n",
        "a=\"2\"\n",
        "print(type(a))\n",
        "print(type(int(a)))"
      ],
      "metadata": {
        "colab": {
          "base_uri": "https://localhost:8080/"
        },
        "id": "Wx_5fUlAZgZ8",
        "outputId": "f3e1ab7f-0c0a-40b6-8e74-579d3ce8cc13"
      },
      "execution_count": 25,
      "outputs": [
        {
          "output_type": "stream",
          "name": "stdout",
          "text": [
            "<class 'str'>\n",
            "<class 'int'>\n"
          ]
        }
      ]
    },
    {
      "cell_type": "code",
      "source": [
        "#float to interger\n",
        "a=3.4\n",
        "type(a)\n"
      ],
      "metadata": {
        "colab": {
          "base_uri": "https://localhost:8080/"
        },
        "id": "WQecP0-Uar_Y",
        "outputId": "4ffbf074-89f1-4d3d-f78d-20952f05ca45"
      },
      "execution_count": 26,
      "outputs": [
        {
          "output_type": "execute_result",
          "data": {
            "text/plain": [
              "float"
            ]
          },
          "metadata": {},
          "execution_count": 26
        }
      ]
    },
    {
      "cell_type": "code",
      "source": [
        "int(a)"
      ],
      "metadata": {
        "colab": {
          "base_uri": "https://localhost:8080/"
        },
        "id": "YeQ78k0VboWX",
        "outputId": "b097bf0d-3081-480d-85c7-212852e1446c"
      },
      "execution_count": 27,
      "outputs": [
        {
          "output_type": "execute_result",
          "data": {
            "text/plain": [
              "3"
            ]
          },
          "metadata": {},
          "execution_count": 27
        }
      ]
    },
    {
      "cell_type": "code",
      "source": [
        "#integer to float\n",
        "a=2\n",
        "float(a)"
      ],
      "metadata": {
        "colab": {
          "base_uri": "https://localhost:8080/"
        },
        "id": "hLLLTyE7bweU",
        "outputId": "6329de35-7ae6-408b-a26e-bef7d4f5c77a"
      },
      "execution_count": 28,
      "outputs": [
        {
          "output_type": "execute_result",
          "data": {
            "text/plain": [
              "2.0"
            ]
          },
          "metadata": {},
          "execution_count": 28
        }
      ]
    },
    {
      "cell_type": "code",
      "source": [
        "#interger to string\n",
        "a=5\n",
        "str(a)\n"
      ],
      "metadata": {
        "colab": {
          "base_uri": "https://localhost:8080/",
          "height": 36
        },
        "id": "yRbSXkoFcQux",
        "outputId": "a25a4d7a-6438-465e-be5f-99fc724ddc55"
      },
      "execution_count": 29,
      "outputs": [
        {
          "output_type": "execute_result",
          "data": {
            "text/plain": [
              "'5'"
            ],
            "application/vnd.google.colaboratory.intrinsic+json": {
              "type": "string"
            }
          },
          "metadata": {},
          "execution_count": 29
        }
      ]
    },
    {
      "cell_type": "markdown",
      "source": [
        "#6.How do conditional statements work in pyhton? illustrate with example.\n",
        "- Conditionals in Python are used to execute code based on the evaluation of one or more conditons. it helps you to code decisions based on some preconditions."
      ],
      "metadata": {
        "id": "2M0NG541cg9p"
      }
    },
    {
      "cell_type": "code",
      "source": [
        "# if statements\n",
        "a=100\n",
        "if a>10:\n",
        "  print(\"the number is greatre than 10\")"
      ],
      "metadata": {
        "colab": {
          "base_uri": "https://localhost:8080/"
        },
        "id": "CsXyK4pzefZ2",
        "outputId": "a0c2aa9e-e7fc-430b-eedb-279a05413d25"
      },
      "execution_count": 32,
      "outputs": [
        {
          "output_type": "stream",
          "name": "stdout",
          "text": [
            "the number is greatre than 10\n"
          ]
        }
      ]
    },
    {
      "cell_type": "code",
      "source": [
        "#if else statements\n",
        "number=4\n",
        "if number%2==0:\n",
        "  print(\"even\")\n",
        "else:\n",
        "    print(\"odd\")\n"
      ],
      "metadata": {
        "colab": {
          "base_uri": "https://localhost:8080/"
        },
        "id": "tM0TSeDlexS_",
        "outputId": "0448b8e4-c30e-4b8f-e826-7e39be1f0d8e"
      },
      "execution_count": 17,
      "outputs": [
        {
          "output_type": "stream",
          "name": "stdout",
          "text": [
            "even\n"
          ]
        }
      ]
    },
    {
      "cell_type": "code",
      "source": [
        "#if elif else statements\n",
        "score=75\n",
        "if score>=90:\n",
        "  print(\"grade A\")\n",
        "elif(80<=score<90):\n",
        "  print(\"grade B\")\n",
        "elif(70<=score<80):\n",
        "  print(\"grade C\")\n",
        "else:\n",
        "  print(\"grade D\")"
      ],
      "metadata": {
        "colab": {
          "base_uri": "https://localhost:8080/"
        },
        "id": "_wflhEiVA4Pk",
        "outputId": "cd1bdaf6-21cf-4411-f1dc-63f9ed76600c"
      },
      "execution_count": 18,
      "outputs": [
        {
          "output_type": "stream",
          "name": "stdout",
          "text": [
            "grade C\n"
          ]
        }
      ]
    },
    {
      "cell_type": "markdown",
      "source": [],
      "metadata": {
        "id": "eyJ5rq-w6-Zu"
      }
    },
    {
      "cell_type": "markdown",
      "source": [],
      "metadata": {
        "id": "uICDo-Vx6L_9"
      }
    },
    {
      "cell_type": "markdown",
      "source": [
        "#7. Describe the different types of loops in pyhton and thier use cases with examples.\n",
        "\n",
        " - python has two primary types of loops for loop and while loop.\n",
        "   there is an additional loop called nested loop\n",
        "\n",
        "   for loop: this loop iterate over a sequence of elements like strings , sets\n",
        "   \n",
        "   use case:when the number iterations is known\n"
      ],
      "metadata": {
        "id": "e5zLtZNPCTeY"
      }
    },
    {
      "cell_type": "code",
      "source": [
        "#for loop\n",
        "for i in \"pwskills\":\n",
        "  print(i)\n",
        "\n"
      ],
      "metadata": {
        "colab": {
          "base_uri": "https://localhost:8080/"
        },
        "id": "b_EFMJefFUUj",
        "outputId": "1f0b30c5-5fed-47ae-e18c-65655d8ca4b5"
      },
      "execution_count": 19,
      "outputs": [
        {
          "output_type": "stream",
          "name": "stdout",
          "text": [
            "p\n",
            "w\n",
            "s\n",
            "k\n",
            "i\n",
            "l\n",
            "l\n",
            "s\n"
          ]
        }
      ]
    },
    {
      "cell_type": "markdown",
      "source": [
        " -  while loop: it repeats a block of code untill the condition is true\n",
        " -  use case: when the number of iterations is not known in advance\n",
        "\n",
        "\n",
        "\n"
      ],
      "metadata": {
        "id": "IOtiPYg_F5NF"
      }
    },
    {
      "cell_type": "code",
      "source": [
        "#while loop\n",
        "n=7\n",
        "i=1\n",
        "while i<n:\n",
        "  print(i)\n",
        "  i=i+1"
      ],
      "metadata": {
        "colab": {
          "base_uri": "https://localhost:8080/"
        },
        "id": "bDg-AXFaGjqY",
        "outputId": "f134035d-a835-4a94-aab2-f2b42586cf38"
      },
      "execution_count": 20,
      "outputs": [
        {
          "output_type": "stream",
          "name": "stdout",
          "text": [
            "1\n",
            "2\n",
            "3\n",
            "4\n",
            "5\n",
            "6\n"
          ]
        }
      ]
    },
    {
      "cell_type": "markdown",
      "source": [],
      "metadata": {
        "id": "zkq858ErGFag"
      }
    },
    {
      "cell_type": "markdown",
      "source": [],
      "metadata": {
        "id": "0DmnACMWG-Bg"
      }
    }
  ]
}